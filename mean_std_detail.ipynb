{
 "cells": [
  {
   "cell_type": "code",
   "execution_count": 1,
   "metadata": {},
   "outputs": [],
   "source": [
    "import matplotlib as mpl\n",
    "import matplotlib.pyplot as plt \n",
    "%matplotlib inline\n",
    "import seaborn as sns\n",
    "import pandas as pd\n",
    "import statsmodels.api as sm\n",
    "sns.set_style(\"darkgrid\")\n",
    "mpl.rcParams['figure.figsize'] = (20,5)"
   ]
  },
  {
   "cell_type": "code",
   "execution_count": 2,
   "metadata": {},
   "outputs": [],
   "source": [
    "dataframe_raw= pd.read_csv('DF_Raw_Data.csv')\n",
    "dataframe_stdev= pd.read_csv('DF_Rolling_Stdev.csv')"
   ]
  },
  {
   "cell_type": "markdown",
   "metadata": {},
   "source": [
    "# Comparing Mean and Standard Deviation"
   ]
  },
  {
   "cell_type": "code",
   "execution_count": 10,
   "metadata": {},
   "outputs": [],
   "source": [
    "# Defining calculation vars for each df\n",
    "std_raw_cols = dataframe_raw.std(numeric_only=True).sort_values(ascending=False)\n",
    "mean_raw_cols = dataframe_raw.mean(numeric_only=True)\n",
    "std_stdev_cols = dataframe_stdev.std(numeric_only=True).sort_values(ascending=False)\n",
    "mean_stdev_cols = dataframe_stdev.mean(numeric_only=True)\n"
   ]
  },
  {
   "cell_type": "code",
   "execution_count": 11,
   "metadata": {},
   "outputs": [],
   "source": [
    "# Creating summary dataframmes for each df\n",
    "std_mean_raw = pd.concat([std_raw_cols, mean_raw_cols], axis=1)\n",
    "std_mean_raw.columns = ['std', 'mean']\n",
    "\n",
    "std_mean_stdev = pd.concat([std_stdev_cols, mean_stdev_cols], axis=1)\n",
    "std_mean_stdev.columns = ['std', 'mean']"
   ]
  },
  {
   "cell_type": "markdown",
   "metadata": {},
   "source": [
    "## Raw Values: Mean and Standard Deviation"
   ]
  },
  {
   "cell_type": "code",
   "execution_count": 12,
   "metadata": {},
   "outputs": [
    {
     "name": "stdout",
     "output_type": "stream",
     "text": [
      "                               std        mean\n",
      "Pump Torque              22.683977  202.851610\n",
      "Pump Speed (RPM)         10.217885   90.796576\n",
      "Pump Efficiency           6.651633   76.015149\n",
      "Ambient Temperature       5.298203   50.226661\n",
      "Volumetric Flow Meter 1   3.656576   41.802629\n",
      "Volumetric Flow Meter 2   3.654873   41.796702\n",
      "Horse Power               0.579055    3.540897\n",
      "PUMP FAILURE (1 or 0)     0.144075    0.021199\n"
     ]
    }
   ],
   "source": [
    "print(std_mean_raw)"
   ]
  },
  {
   "cell_type": "markdown",
   "metadata": {},
   "source": [
    "## StDev Values: Mean and Standard Deviation"
   ]
  },
  {
   "cell_type": "code",
   "execution_count": 13,
   "metadata": {},
   "outputs": [
    {
     "name": "stdout",
     "output_type": "stream",
     "text": [
      "                               std       mean\n",
      "Pump Torque              12.394302  13.945338\n",
      "Pump Speed (RPM)          5.722897   6.648308\n",
      "Pump Efficiency           4.186723   2.725232\n",
      "Ambient Temperature       3.043042   3.436370\n",
      "Volumetric Flow Meter 1   2.294950   1.485126\n",
      "Volumetric Flow Meter 2   2.282053   1.497361\n",
      "Horse Power               0.299790   0.370600\n",
      "PUMP FAILURE (1 or 0)     0.144104   0.021207\n"
     ]
    }
   ],
   "source": [
    "print(std_mean_stdev)"
   ]
  },
  {
   "cell_type": "markdown",
   "metadata": {},
   "source": [
    "## Answer\n",
    "###  What do you observe when you compare the dataframe_raw standard deviation and mean, versus the dataframe_stdev standard deviation and mean?\n",
    "    \n"
   ]
  },
  {
   "cell_type": "markdown",
   "metadata": {},
   "source": [
    "#### Dataframe_raw: Standard Deviation vs. Mean\n",
    "#### Dataframe_std: Standard Deviation vs. Mean\n",
    "#### Comparing summary statistics between the two dataframes"
   ]
  }
 ],
 "metadata": {
  "kernelspec": {
   "display_name": "socio_health",
   "language": "python",
   "name": "python3"
  },
  "language_info": {
   "codemirror_mode": {
    "name": "ipython",
    "version": 3
   },
   "file_extension": ".py",
   "mimetype": "text/x-python",
   "name": "python",
   "nbconvert_exporter": "python",
   "pygments_lexer": "ipython3",
   "version": "3.13.1"
  }
 },
 "nbformat": 4,
 "nbformat_minor": 2
}
